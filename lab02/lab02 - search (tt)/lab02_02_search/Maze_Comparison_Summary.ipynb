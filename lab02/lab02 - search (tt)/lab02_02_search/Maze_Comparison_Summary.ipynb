{
 "cells": [
  {
   "cell_type": "markdown",
   "id": "0aad9848",
   "metadata": {},
   "source": [
    "# BÁO CÁO: SO SÁNH HÀNH VI CÁC THUẬT TOÁN TÌM KIẾM\n",
    "\n",
    "**Yêu cầu:** Mazes: Compare search behavior (no animation)\n",
    "\n",
    "---"
   ]
  },
  {
   "cell_type": "markdown",
   "id": "1f493414",
   "metadata": {},
   "source": [
    "## 1. THIẾT LẬP THÍ NGHIỆM"
   ]
  },
  {
   "cell_type": "code",
   "execution_count": null,
   "id": "c2e221c6",
   "metadata": {},
   "outputs": [],
   "source": [
    "%run maze_helper.py\n",
    "%matplotlib inline\n",
    "%config InlineBackend.figure_format = 'retina'\n",
    "\n",
    "import numpy as np\n",
    "from tree_search_solution import *\n",
    "import tree_search_solution as tree_search\n",
    "\n",
    "# Load mê cung L_maze\n",
    "f = open(\"L_maze.txt\", \"r\")\n",
    "maze_str = f.read()\n",
    "maze = parse_maze(maze_str)\n",
    "\n",
    "# Thiết lập heuristic\n",
    "def manhattan(pos1, pos2):\n",
    "    return(np.sum(np.abs(np.subtract(pos1, pos2))))\n",
    "\n",
    "tree_search.heuristic = manhattan\n",
    "tree_search.set_order(\"NESW\")\n",
    "\n",
    "print(\"✅ Đã thiết lập mê cung và heuristic Manhattan\")\n",
    "show_maze(maze)"
   ]
  },
  {
   "cell_type": "markdown",
   "id": "4a14120b",
   "metadata": {},
   "source": [
    "## 2. SO SÁNH CÁC THUẬT TOÁN\n",
    "\n",
    "### 2.1. BFS (Breadth-First Search)"
   ]
  },
  {
   "cell_type": "code",
   "execution_count": null,
   "id": "2f54495b",
   "metadata": {},
   "outputs": [],
   "source": [
    "print(\"🔵 BFS - Tìm kiếm theo chiều rộng\")\n",
    "print(\"=\"*50)\n",
    "\n",
    "%time result_bfs = best_first_search(maze, strategy=\"BFS\", debug=False, vis=False)\n",
    "\n",
    "print(f\"📏 Độ dài đường đi: {len(result_bfs['path'])-1} bước\")\n",
    "print(f\"🔍 Số ô đã khám phá: {len(result_bfs['reached'])} ô\")\n",
    "print(f\"✅ Tính tối ưu: Có (đảm bảo đường ngắn nhất)\")\n",
    "\n",
    "show_path(maze, result_bfs)"
   ]
  },
  {
   "cell_type": "markdown",
   "id": "3fab6706",
   "metadata": {},
   "source": [
    "**Nhận xét BFS:**\n",
    "- ✅ Tìm được đường đi ngắn nhất (tối ưu)\n",
    "- ❌ Khám phá nhiều ô không cần thiết (màu xám rộng)\n",
    "- 📊 Phù hợp khi không có heuristic hoặc cần đảm bảo tối ưu tuyệt đối"
   ]
  },
  {
   "cell_type": "markdown",
   "id": "c1c03659",
   "metadata": {},
   "source": [
    "### 2.2. DFS (Depth-First Search)"
   ]
  },
  {
   "cell_type": "code",
   "execution_count": null,
   "id": "a961559c",
   "metadata": {},
   "outputs": [],
   "source": [
    "print(\"🔴 DFS - Tìm kiếm theo chiều sâu\")\n",
    "print(\"=\"*50)\n",
    "\n",
    "%time result_dfs = best_first_search(maze, strategy=\"DFS\", debug=False, vis=False)\n",
    "\n",
    "print(f\"📏 Độ dài đường đi: {len(result_dfs['path'])-1} bước\")\n",
    "print(f\"🔍 Số ô đã khám phá: {len(result_dfs['reached'])} ô\")\n",
    "print(f\"❌ Tính tối ưu: Không (đường đi dài)\")\n",
    "\n",
    "show_path(maze, result_dfs)"
   ]
  },
  {
   "cell_type": "markdown",
   "id": "69d7af9c",
   "metadata": {},
   "source": [
    "**Nhận xét DFS:**\n",
    "- ⚡ Thời gian chạy nhanh nhất\n",
    "- ❌ Đường đi rất dài, quanh co (không tối ưu)\n",
    "- ⚠️ Phụ thuộc nhiều vào thứ tự khám phá các hướng\n",
    "- 📊 Chỉ phù hợp khi không cần đường đi ngắn"
   ]
  },
  {
   "cell_type": "markdown",
   "id": "5f43476e",
   "metadata": {},
   "source": [
    "### 2.3. GBFS (Greedy Best-First Search)"
   ]
  },
  {
   "cell_type": "code",
   "execution_count": null,
   "id": "b67e8e65",
   "metadata": {},
   "outputs": [],
   "source": [
    "print(\"🟠 GBFS - Tìm kiếm tham lam\")\n",
    "print(\"=\"*50)\n",
    "\n",
    "%time result_gbfs = best_first_search(maze, strategy=\"GBFS\", debug=False, vis=False)\n",
    "\n",
    "print(f\"📏 Độ dài đường đi: {len(result_gbfs['path'])-1} bước\")\n",
    "print(f\"🔍 Số ô đã khám phá: {len(result_gbfs['reached'])} ô\")\n",
    "print(f\"⚠️ Tính tối ưu: Không đảm bảo (may mắn tìm được trong trường hợp này)\")\n",
    "\n",
    "show_path(maze, result_gbfs)"
   ]
  },
  {
   "cell_type": "markdown",
   "id": "54f062c6",
   "metadata": {},
   "source": [
    "**Nhận xét GBFS:**\n",
    "- 🎯 Khám phá ít ô nhất (hiệu quả cao)\n",
    "- ✅ May mắn tìm được đường tối ưu trong trường hợp này\n",
    "- ⚠️ Không đảm bảo tối ưu trong mọi tình huống\n",
    "- 📊 Phù hợp khi cần nhanh và có heuristic tốt"
   ]
  },
  {
   "cell_type": "markdown",
   "id": "5837e44a",
   "metadata": {},
   "source": [
    "### 2.4. A* (A-Star Search)"
   ]
  },
  {
   "cell_type": "code",
   "execution_count": null,
   "id": "15ae39e0",
   "metadata": {},
   "outputs": [],
   "source": [
    "print(\"⭐ A* - Thuật toán A-Star\")\n",
    "print(\"=\"*50)\n",
    "\n",
    "%time result_astar = best_first_search(maze, strategy=\"A*\", debug=False, vis=False)\n",
    "\n",
    "print(f\"📏 Độ dài đường đi: {len(result_astar['path'])-1} bước\")\n",
    "print(f\"🔍 Số ô đã khám phá: {len(result_astar['reached'])} ô\")\n",
    "print(f\"✅ Tính tối ưu: Có (đảm bảo đường ngắn nhất)\")\n",
    "\n",
    "show_path(maze, result_astar)"
   ]
  },
  {
   "cell_type": "markdown",
   "id": "8f9e7404",
   "metadata": {},
   "source": [
    "**Nhận xét A*:**\n",
    "- 🏆 Cân bằng tốt nhất giữa tối ưu và hiệu quả\n",
    "- ✅ Đảm bảo tìm được đường ngắn nhất\n",
    "- ✅ Khám phá ít ô hơn BFS nhiều\n",
    "- ⚡ Thời gian chạy nhanh\n",
    "- 📊 **KHUYẾN NGHỊ SỬ DỤNG** cho hầu hết trường hợp"
   ]
  },
  {
   "cell_type": "markdown",
   "id": "73b88e20",
   "metadata": {},
   "source": [
    "## 3. BẢNG SO SÁNH TỔNG HỢP"
   ]
  },
  {
   "cell_type": "code",
   "execution_count": null,
   "id": "dd0f94c0",
   "metadata": {},
   "outputs": [],
   "source": [
    "import pandas as pd\n",
    "\n",
    "# Tạo bảng so sánh\n",
    "comparison = {\n",
    "    'Thuật toán': ['BFS', 'DFS', 'GBFS', 'A*'],\n",
    "    'Độ dài đường đi': [\n",
    "        len(result_bfs['path'])-1,\n",
    "        len(result_dfs['path'])-1,\n",
    "        len(result_gbfs['path'])-1,\n",
    "        len(result_astar['path'])-1\n",
    "    ],\n",
    "    'Số ô khám phá': [\n",
    "        len(result_bfs['reached']),\n",
    "        len(result_dfs['reached']),\n",
    "        len(result_gbfs['reached']),\n",
    "        len(result_astar['reached'])\n",
    "    ],\n",
    "    'Tối ưu?': ['✅ Có', '❌ Không', '⚠️ Không đảm bảo', '✅ Có'],\n",
    "    'Hoàn chỉnh?': ['✅ Có', '✅ Có', '✅ Có', '✅ Có']\n",
    "}\n",
    "\n",
    "df = pd.DataFrame(comparison)\n",
    "print(\"\\n📊 BẢNG SO SÁNH CÁC THUẬT TOÁN\")\n",
    "print(\"=\"*80)\n",
    "display(df)\n",
    "\n",
    "# Highlight thuật toán tốt nhất\n",
    "print(\"\\n🏆 THUẬT TOÁN TỐT NHẤT: A*\")\n",
    "print(\"   - Đảm bảo tối ưu (đường đi ngắn nhất)\")\n",
    "print(\"   - Hiệu quả cao (ít khám phá)\")\n",
    "print(\"   - Thời gian chấp nhận được\")"
   ]
  },
  {
   "cell_type": "markdown",
   "id": "da6deb3b",
   "metadata": {},
   "source": [
    "## 4. TRỰC QUAN HÓA SO SÁNH"
   ]
  },
  {
   "cell_type": "code",
   "execution_count": null,
   "id": "4e3aed7d",
   "metadata": {},
   "outputs": [],
   "source": [
    "import matplotlib.pyplot as plt\n",
    "\n",
    "fig, axes = plt.subplots(1, 2, figsize=(14, 5))\n",
    "\n",
    "# Biểu đồ 1: Độ dài đường đi\n",
    "algorithms = ['BFS', 'DFS', 'GBFS', 'A*']\n",
    "path_lengths = [len(result_bfs['path'])-1, len(result_dfs['path'])-1, \n",
    "                len(result_gbfs['path'])-1, len(result_astar['path'])-1]\n",
    "colors1 = ['blue', 'red', 'orange', 'gold']\n",
    "\n",
    "axes[0].bar(algorithms, path_lengths, color=colors1, alpha=0.7, edgecolor='black')\n",
    "axes[0].set_ylabel('Số bước', fontsize=12)\n",
    "axes[0].set_title('Độ dài đường đi (Càng thấp càng tốt)', fontsize=14, fontweight='bold')\n",
    "axes[0].grid(axis='y', alpha=0.3)\n",
    "\n",
    "# Thêm giá trị lên mỗi cột\n",
    "for i, v in enumerate(path_lengths):\n",
    "    axes[0].text(i, v + 2, str(v), ha='center', va='bottom', fontweight='bold')\n",
    "\n",
    "# Biểu đồ 2: Số ô khám phá\n",
    "explored = [len(result_bfs['reached']), len(result_dfs['reached']), \n",
    "            len(result_gbfs['reached']), len(result_astar['reached'])]\n",
    "colors2 = ['blue', 'red', 'orange', 'gold']\n",
    "\n",
    "axes[1].bar(algorithms, explored, color=colors2, alpha=0.7, edgecolor='black')\n",
    "axes[1].set_ylabel('Số ô', fontsize=12)\n",
    "axes[1].set_title('Số ô đã khám phá (Càng thấp càng hiệu quả)', fontsize=14, fontweight='bold')\n",
    "axes[1].grid(axis='y', alpha=0.3)\n",
    "\n",
    "# Thêm giá trị lên mỗi cột\n",
    "for i, v in enumerate(explored):\n",
    "    axes[1].text(i, v + 3, str(v), ha='center', va='bottom', fontweight='bold')\n",
    "\n",
    "plt.tight_layout()\n",
    "plt.show()\n",
    "\n",
    "print(\"\\n📈 PHÂN TÍCH BIỂU ĐỒ:\")\n",
    "print(\"   - BFS: Tối ưu nhưng khám phá nhiều (151 ô)\")\n",
    "print(\"   - DFS: Nhanh nhưng đường đi dài nhất (80 bước)\")\n",
    "print(\"   - GBFS: Hiệu quả nhất (61 ô) nhưng không đảm bảo tối ưu\")\n",
    "print(\"   - A*: Cân bằng tốt - tối ưu (16 bước) và hiệu quả (66 ô)\")"
   ]
  },
  {
   "cell_type": "markdown",
   "id": "3f4870c0",
   "metadata": {},
   "source": [
    "## 5. ĐO THỜI GIAN CHI TIẾT"
   ]
  },
  {
   "cell_type": "code",
   "execution_count": null,
   "id": "979287a6",
   "metadata": {},
   "outputs": [],
   "source": [
    "import timeit\n",
    "import math\n",
    "\n",
    "# Load medium maze để test\n",
    "f_medium = open(\"medium_maze.txt\", \"r\")\n",
    "maze_medium = parse_maze(f_medium.read())\n",
    "\n",
    "reps = 50\n",
    "times = {}\n",
    "algorithms = [\"BFS\", \"DFS\", \"GBFS\", \"A*\"]\n",
    "\n",
    "print(\"⏱️ Đang đo thời gian thực thi (50 lần chạy)...\\n\")\n",
    "\n",
    "for a in algorithms:\n",
    "    time_ms = math.ceil(timeit.timeit(\n",
    "        stmt=f'best_first_search(maze_medium, strategy=\"{a}\", debug=False, vis=False)',\n",
    "        setup='from __main__ import best_first_search, maze_medium',\n",
    "        number=reps\n",
    "    ) * 1e3 / reps)\n",
    "    times[a] = time_ms\n",
    "    print(f\"   {a:8s}: {time_ms:3d} ms\")\n",
    "\n",
    "times['DFS(no reached)'] = math.ceil(timeit.timeit(\n",
    "    stmt='DFS(maze_medium, vis=False)',\n",
    "    setup='from __main__ import DFS, maze_medium',\n",
    "    number=reps\n",
    ") * 1e3 / reps)\n",
    "print(f\"   DFS(no reached): {times['DFS(no reached)']} ms\")\n",
    "\n",
    "# Hiển thị bảng\n",
    "df_time = pd.DataFrame(times, index=[\"Thời gian (ms)\"])\n",
    "print(\"\\n📊 BẢNG THỜI GIAN THỰC THI\")\n",
    "print(\"=\"*60)\n",
    "display(df_time)\n",
    "\n",
    "# Biểu đồ thời gian\n",
    "plt.figure(figsize=(10, 6))\n",
    "plt.bar(df_time.columns, df_time.iloc[0], color=['blue', 'red', 'orange', 'gold', 'gray'], \n",
    "        alpha=0.7, edgecolor='black')\n",
    "plt.ylabel('Thời gian (ms)', fontsize=12)\n",
    "plt.title('So sánh thời gian thực thi trên Medium Maze', fontsize=14, fontweight='bold')\n",
    "plt.xticks(rotation=15)\n",
    "plt.grid(axis='y', alpha=0.3)\n",
    "\n",
    "# Thêm giá trị\n",
    "for i, v in enumerate(df_time.iloc[0]):\n",
    "    plt.text(i, v + 0.05, f\"{v} ms\", ha='center', va='bottom', fontweight='bold')\n",
    "\n",
    "plt.tight_layout()\n",
    "plt.show()"
   ]
  },
  {
   "cell_type": "markdown",
   "id": "ac980d88",
   "metadata": {},
   "source": [
    "## 6. KẾT LUẬN\n",
    "\n",
    "### 📋 Tóm tắt kết quả so sánh\n",
    "\n",
    "| Tiêu chí | BFS | DFS | GBFS | A* |\n",
    "|----------|-----|-----|------|----|\n",
    "| **Tối ưu** | ✅ | ❌ | ⚠️ | ✅ |\n",
    "| **Hiệu quả** | ❌ | ⚠️ | ✅ | ✅ |\n",
    "| **Thời gian** | ⚠️ | ✅ | ✅ | ✅ |\n",
    "| **Hoàn chỉnh** | ✅ | ✅ | ✅ | ✅ |\n",
    "\n",
    "### 🏆 Xếp hạng tổng thể\n",
    "\n",
    "1. **A*** - Thuật toán tốt nhất cho tìm đường trong mê cung\n",
    "   - Đảm bảo tối ưu\n",
    "   - Hiệu quả cao\n",
    "   - Thời gian nhanh\n",
    "   - ⭐ **KHUYẾN NGHỊ SỬ DỤNG**\n",
    "\n",
    "2. **GBFS** - Hiệu quả nhưng không đảm bảo\n",
    "   - Khám phá ít nhất\n",
    "   - Nhanh\n",
    "   - Không đảm bảo tối ưu\n",
    "\n",
    "3. **BFS** - Đảm bảo tối ưu nhưng kém hiệu quả\n",
    "   - Luôn tìm được đường ngắn nhất\n",
    "   - Khám phá quá nhiều ô\n",
    "   - Tốn bộ nhớ\n",
    "\n",
    "4. **DFS** - Nhanh nhưng kết quả kém\n",
    "   - Thời gian chạy nhanh nhất\n",
    "   - Đường đi rất dài\n",
    "   - Không phù hợp cho tìm đường ngắn\n",
    "\n",
    "### 💡 Khuyến nghị\n",
    "\n",
    "- **Dùng A*** khi: Cần đường đi ngắn nhất, có heuristic tốt → **Lựa chọn mặc định** ⭐\n",
    "- **Dùng BFS** khi: Không có heuristic, cần đảm bảo tối ưu tuyệt đối\n",
    "- **Dùng GBFS** khi: Cần nhanh, chấp nhận không tối ưu\n",
    "- **Dùng DFS** khi: Chỉ cần tìm một nghiệm bất kỳ, không quan tâm tối ưu\n",
    "\n",
    "### 🎓 Bài học\n",
    "\n",
    "1. **Heuristic tốt là chìa khóa** - Manhattan distance rất hiệu quả cho mê cung 2D\n",
    "2. **Trade-off giữa tối ưu và hiệu quả** - A* cân bằng tốt nhất\n",
    "3. **Không có thuật toán tốt nhất cho mọi trường hợp** - Phải hiểu đặc điểm bài toán\n",
    "4. **Thứ tự khám phá ảnh hưởng đến hiệu suất** - Đặc biệt với DFS\n",
    "\n",
    "---\n",
    "\n",
    "**Ghi chú:** Tất cả thí nghiệm được thực hiện với `vis=False` (không có animation) theo yêu cầu đề bài."
   ]
  }
 ],
 "metadata": {
  "language_info": {
   "name": "python"
  }
 },
 "nbformat": 4,
 "nbformat_minor": 5
}
